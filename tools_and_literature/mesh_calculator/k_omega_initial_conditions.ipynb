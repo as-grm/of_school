{
 "cells": [
  {
   "cell_type": "markdown",
   "id": "9a76aa3d-c6c3-47b6-8eb6-b19ed8b51a5e",
   "metadata": {},
   "source": [
    "# Calculation of the initial conditions for $k-\\omega$ turbulent models\n",
    "\n",
    "### 1. $k-\\omega$ SST (The BEST model)\n",
    "\n",
    "For isotropic turbulence, the **turbulence kinetic energy** $k$ can be estimated by\n",
    "$$\n",
    "    k = \\frac{2}{3} \\: \\Big( I \\: U_\\infty \\Big)^2,\n",
    "$$\n",
    "where $I$ is the inflow turbulent intensity, and $U_\\infty$ a reference velocity. Normally $I\\in[0.01, 0.05]$.\n",
    "\n",
    "The **turbulence specific dissipation rate** $\\omega$ follows as\n",
    "$$\n",
    "    \\omega= \\frac{k^{0.5}}{C_\\mu^{0.25} \\: L},\n",
    "$$\n",
    "where $C_\\mu$ is a constant equal to 0.09, and $L$ a reference length scale.\n",
    "\n",
    "<br>\n",
    "\n",
    "### 2. $k-\\omega$ SST-LM (problems starting)  \n",
    "(Langtry-Menter 4-equation transitional SST model based on the k-omega-SST)\n",
    "\n",
    "In addition to SST $k$ and $\\omega$ parameters, it is also needed to set the **transition momentum thickness Reynolds number** $Re_\\theta$\n",
    "$$\n",
    "    Re_\\theta = \n",
    "    \\begin{cases}\n",
    "        1173.51 - 589.428 \\: T_u + \\frac{0.2196}{Tu^2} & \\text{; for } T_u \\leq 1.3 \\\\\n",
    "        \\frac{331.5}{(T_u - 0.5658)^{0.679}} & \\text{; for } T_u > 1.3\n",
    "    \\end{cases}\n",
    "$$\n",
    "where is **turbulence intensity/level**\n",
    "$$\n",
    "    T_u = 100 \\frac{\\sqrt{2/3 \\: k}}{U_\\infty}.\n",
    "$$\n"
   ]
  },
  {
   "cell_type": "code",
   "execution_count": 1,
   "id": "d48c600b-6915-4169-a343-f5bda6dccd30",
   "metadata": {},
   "outputs": [],
   "source": [
    "import math as mat\n",
    "import numpy as np"
   ]
  },
  {
   "cell_type": "code",
   "execution_count": 2,
   "id": "2842b8e4-8d95-4515-a1d2-d977f2d4a6f2",
   "metadata": {},
   "outputs": [],
   "source": [
    "def k_param(I,U):\n",
    "\n",
    "    k = 2/3 * (I*U)**2\n",
    "\n",
    "    return k"
   ]
  },
  {
   "cell_type": "code",
   "execution_count": 3,
   "id": "048a328c-fefd-469d-a4e4-a085f6423c86",
   "metadata": {},
   "outputs": [],
   "source": [
    "def omega_param(k, L):\n",
    "\n",
    "    omega = k**0.5 / (0.09**0.25 * L)\n",
    "\n",
    "    return omega"
   ]
  },
  {
   "cell_type": "code",
   "execution_count": 4,
   "id": "feb8d260-b82d-44f9-8313-9b7383c91d9a",
   "metadata": {},
   "outputs": [],
   "source": [
    "def nut_param(k,w):\n",
    "\n",
    "    nut = 0.31 * k/w\n",
    "\n",
    "    return nut"
   ]
  },
  {
   "cell_type": "code",
   "execution_count": 5,
   "id": "9b83e716-b5f8-4260-8795-647d257bb22a",
   "metadata": {},
   "outputs": [],
   "source": [
    "def tu_param(k, U):\n",
    "\n",
    "    tu = 100 * mat.sqrt(2/3 * k)/U\n",
    "\n",
    "    return tu"
   ]
  },
  {
   "cell_type": "code",
   "execution_count": 6,
   "id": "586ed0c9-d8ef-4ebe-8fad-53d6fd484860",
   "metadata": {},
   "outputs": [],
   "source": [
    "def ret_param(tu):\n",
    "\n",
    "    if tu <= 1.3:\n",
    "        ret = 1173.51 - 589.428 * tu + 0.2196/(tu**2)\n",
    "    else:\n",
    "        ret = 331.5 / ((tu - 0.5658)**0.679)\n",
    "\n",
    "    return ret"
   ]
  },
  {
   "cell_type": "code",
   "execution_count": 9,
   "id": "e3d77b93-c3b8-4c07-8428-f8fb1bf950da",
   "metadata": {},
   "outputs": [
    {
     "name": "stdout",
     "output_type": "stream",
     "text": [
      " ->    k: 6.66667e-03\n",
      " ->    w: 1.49071e+00\n",
      " ->  nut: 1.38636e-03\n",
      " ->   Tu: 6.66667e-01\n",
      " -> Re_t: 7.81052e+02\n"
     ]
    }
   ],
   "source": [
    "# ********************\n",
    "# *** Main program ***\n",
    "# ********************\n",
    "\n",
    "U = 10   # [m/s]\n",
    "L = 0.1  # [m]\n",
    "I = 0.01 # 1% = 0.01\n",
    "\n",
    "kp = k_param(I,U)\n",
    "wp = omega_param(kp, L)\n",
    "nut = nut_param(kp, wp)\n",
    "tu = tu_param(kp, U)\n",
    "Re_t = ret_param(tu)\n",
    "\n",
    "print(' ->    k: {:.5e}'.format(kp))\n",
    "print(' ->    w: {:.5e}'.format(wp))\n",
    "print(' ->  nut: {:.5e}'.format(nut))\n",
    "print(' ->   Tu: {:.5e}'.format(tu))\n",
    "print(' -> Re_t: {:.5e}'.format(Re_t))"
   ]
  },
  {
   "cell_type": "code",
   "execution_count": null,
   "id": "4060331c-8c22-4fa9-b297-17d2044d394b",
   "metadata": {},
   "outputs": [],
   "source": []
  }
 ],
 "metadata": {
  "kernelspec": {
   "display_name": "Python 3 (ipykernel)",
   "language": "python",
   "name": "python3"
  },
  "language_info": {
   "codemirror_mode": {
    "name": "ipython",
    "version": 3
   },
   "file_extension": ".py",
   "mimetype": "text/x-python",
   "name": "python",
   "nbconvert_exporter": "python",
   "pygments_lexer": "ipython3",
   "version": "3.11.6"
  }
 },
 "nbformat": 4,
 "nbformat_minor": 5
}
